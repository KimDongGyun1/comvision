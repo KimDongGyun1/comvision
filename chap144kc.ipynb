{
 "cells": [
  {
   "cell_type": "markdown",
   "metadata": {},
   "source": [
    "# 1.4.4 Smoothing Images"
   ]
  },
  {
   "cell_type": "markdown",
   "metadata": {},
   "source": [
    "## Kernel Convolution"
   ]
  },
  {
   "cell_type": "code",
   "execution_count": 1,
   "metadata": {},
   "outputs": [],
   "source": [
    "import cv2\n",
    "import numpy as np\n",
    "from matplotlib import pyplot as plt"
   ]
  },
  {
   "cell_type": "code",
   "execution_count": 2,
   "metadata": {},
   "outputs": [],
   "source": [
    "l=1\n",
    "kernel = np.array([[0,-1,0],[-1,4,-1],[0,-1,0]],np.float32)"
   ]
  },
  {
   "cell_type": "code",
   "execution_count": 3,
   "metadata": {},
   "outputs": [
    {
     "data": {
      "text/plain": [
       "array([[ 0., -1.,  0.],\n",
       "       [-1.,  4., -1.],\n",
       "       [ 0., -1.,  0.]], dtype=float32)"
      ]
     },
     "execution_count": 3,
     "metadata": {},
     "output_type": "execute_result"
    }
   ],
   "source": [
    "kernel"
   ]
  },
  {
   "cell_type": "code",
   "execution_count": 4,
   "metadata": {},
   "outputs": [],
   "source": [
    "img = np.random.randint(10, size=(12,12))\n",
    "#img = np.ones((10,10),np.float32)"
   ]
  },
  {
   "cell_type": "code",
   "execution_count": 5,
   "metadata": {},
   "outputs": [
    {
     "data": {
      "text/plain": [
       "array([[7, 9, 2, 9, 3, 6, 4, 5, 0, 9, 6, 0],\n",
       "       [7, 7, 8, 6, 4, 0, 7, 8, 9, 1, 7, 2],\n",
       "       [6, 2, 1, 2, 2, 2, 0, 4, 6, 5, 8, 3],\n",
       "       [7, 8, 5, 0, 7, 0, 3, 5, 4, 1, 8, 7],\n",
       "       [5, 1, 8, 4, 2, 2, 3, 5, 9, 3, 2, 1],\n",
       "       [3, 3, 7, 9, 2, 9, 5, 1, 0, 8, 2, 4],\n",
       "       [6, 4, 6, 1, 4, 4, 9, 2, 2, 0, 6, 4],\n",
       "       [5, 2, 0, 8, 3, 5, 6, 9, 5, 2, 3, 5],\n",
       "       [3, 7, 2, 2, 9, 5, 5, 8, 5, 4, 3, 6],\n",
       "       [1, 2, 3, 7, 2, 9, 8, 5, 5, 0, 7, 7],\n",
       "       [5, 2, 2, 5, 5, 9, 2, 6, 9, 7, 2, 0],\n",
       "       [6, 8, 0, 8, 0, 0, 8, 0, 7, 1, 0, 9]])"
      ]
     },
     "execution_count": 5,
     "metadata": {},
     "output_type": "execute_result"
    }
   ],
   "source": [
    "img"
   ]
  },
  {
   "cell_type": "code",
   "execution_count": 6,
   "metadata": {},
   "outputs": [],
   "source": [
    "h,w=img.shape"
   ]
  },
  {
   "cell_type": "code",
   "execution_count": 7,
   "metadata": {},
   "outputs": [
    {
     "name": "stdout",
     "output_type": "stream",
     "text": [
      "12 12\n"
     ]
    }
   ],
   "source": [
    "print(h,w)"
   ]
  },
  {
   "cell_type": "code",
   "execution_count": 8,
   "metadata": {},
   "outputs": [],
   "source": [
    "#[*range(-2,3)]"
   ]
  },
  {
   "cell_type": "code",
   "execution_count": 9,
   "metadata": {},
   "outputs": [],
   "source": [
    "dst = np.zeros((h,w),np.int)"
   ]
  },
  {
   "cell_type": "code",
   "execution_count": 10,
   "metadata": {},
   "outputs": [],
   "source": [
    "for i in range(l,h-l):\n",
    "    for j in range(l,w-l):\n",
    "        t=0\n",
    "        for p in range(-l,l+1):\n",
    "            for q in range(-l,l+1):\n",
    "                t += kernel[p+l,q+l]*img[i+p,j+q]\n",
    "        dst[i,j]=t        "
   ]
  },
  {
   "cell_type": "code",
   "execution_count": 11,
   "metadata": {},
   "outputs": [
    {
     "data": {
      "text/plain": [
       "array([[7, 9, 2, 9, 3, 6, 4, 5, 0, 9, 6, 0],\n",
       "       [7, 7, 8, 6, 4, 0, 7, 8, 9, 1, 7, 2],\n",
       "       [6, 2, 1, 2, 2, 2, 0, 4, 6, 5, 8, 3],\n",
       "       [7, 8, 5, 0, 7, 0, 3, 5, 4, 1, 8, 7],\n",
       "       [5, 1, 8, 4, 2, 2, 3, 5, 9, 3, 2, 1],\n",
       "       [3, 3, 7, 9, 2, 9, 5, 1, 0, 8, 2, 4],\n",
       "       [6, 4, 6, 1, 4, 4, 9, 2, 2, 0, 6, 4],\n",
       "       [5, 2, 0, 8, 3, 5, 6, 9, 5, 2, 3, 5],\n",
       "       [3, 7, 2, 2, 9, 5, 5, 8, 5, 4, 3, 6],\n",
       "       [1, 2, 3, 7, 2, 9, 8, 5, 5, 0, 7, 7],\n",
       "       [5, 2, 2, 5, 5, 9, 2, 6, 9, 7, 2, 0],\n",
       "       [6, 8, 0, 8, 0, 0, 8, 0, 7, 1, 0, 9]])"
      ]
     },
     "execution_count": 11,
     "metadata": {},
     "output_type": "execute_result"
    }
   ],
   "source": [
    "img"
   ]
  },
  {
   "cell_type": "code",
   "execution_count": 12,
   "metadata": {},
   "outputs": [
    {
     "data": {
      "text/plain": [
       "array([[  0,   0,   0,   0,   0,   0,   0,   0,   0,   0,   0,   0],\n",
       "       [  0,   2,  16,   1,   5, -19,  16,   7,  21, -26,  11,   0],\n",
       "       [  0, -14, -13,  -1,  -7,   6, -16,  -3,   2,   4,   9,   0],\n",
       "       [  0,  17,   3, -18,  24, -14,   4,   4,  -5, -16,  14,   0],\n",
       "       [  0, -20,  15,  -3,  -7,  -6,  -3,   2,  24,  -8,  -6,   0],\n",
       "       [  0,  -3,   2,  22, -16,  23,  -2,  -8, -20,  27, -12,   0],\n",
       "       [  0,  -1,  12, -23,   6, -11,  19, -13,   1, -18,  15,   0],\n",
       "       [  0,  -8, -18,  26, -14,   2,  -4,  15,   2,  -4,  -4,   0],\n",
       "       [  0,  19,  -4, -18,  24,  -8,  -7,   8,  -2,   6,  -8,   0],\n",
       "       [  0,  -5,  -1,  16, -22,  12,  11,  -7,   1, -23,  16,   0],\n",
       "       [  0,  -9,  -2,  -2,   4,  20, -23,   8,  11,  16,  -6,   0],\n",
       "       [  0,   0,   0,   0,   0,   0,   0,   0,   0,   0,   0,   0]])"
      ]
     },
     "execution_count": 12,
     "metadata": {},
     "output_type": "execute_result"
    }
   ],
   "source": [
    "dst"
   ]
  },
  {
   "cell_type": "code",
   "execution_count": 13,
   "metadata": {},
   "outputs": [],
   "source": [
    "img = cv2.imread('lena.png', 0)"
   ]
  },
  {
   "cell_type": "code",
   "execution_count": 14,
   "metadata": {},
   "outputs": [],
   "source": [
    "h,w=img.shape"
   ]
  },
  {
   "cell_type": "code",
   "execution_count": 15,
   "metadata": {},
   "outputs": [],
   "source": [
    "dst = np.zeros((h-2*l,w-2*l),np.uint8)"
   ]
  },
  {
   "cell_type": "code",
   "execution_count": 16,
   "metadata": {},
   "outputs": [],
   "source": [
    "for i in range(l,h-l):\n",
    "    for j in range(l,w-l):\n",
    "        t=0\n",
    "        for p in range(-l,l+1):\n",
    "            for q in range(-l,l+1):\n",
    "                t += kernel[p+l,q+l]*img[i+p,j+q]\n",
    "        dst[i-l,j-l]=t "
   ]
  },
  {
   "cell_type": "code",
   "execution_count": 18,
   "metadata": {},
   "outputs": [],
   "source": [
    "cv2.imshow('img',img)\n",
    "cv2.imshow('dst',dst)\n",
    "cv2.waitKey(0)\n",
    "cv2.destroyAllWindows()"
   ]
  },
  {
   "cell_type": "code",
   "execution_count": null,
   "metadata": {},
   "outputs": [],
   "source": []
  }
 ],
 "metadata": {
  "kernelspec": {
   "display_name": "Python 3",
   "language": "python",
   "name": "python3"
  },
  "language_info": {
   "codemirror_mode": {
    "name": "ipython",
    "version": 3
   },
   "file_extension": ".py",
   "mimetype": "text/x-python",
   "name": "python",
   "nbconvert_exporter": "python",
   "pygments_lexer": "ipython3",
   "version": "3.8.3"
  }
 },
 "nbformat": 4,
 "nbformat_minor": 4
}
